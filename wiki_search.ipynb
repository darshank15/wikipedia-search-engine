{
 "cells": [
  {
   "cell_type": "code",
   "execution_count": 16,
   "metadata": {},
   "outputs": [],
   "source": [
    "from include1 import *\n",
    "import operator\n",
    "import time\n",
    "import copy\n",
    "import sys"
   ]
  },
  {
   "cell_type": "code",
   "execution_count": 17,
   "metadata": {},
   "outputs": [],
   "source": [
    "def read_file(testfile):\n",
    "    with open(testfile, 'r') as file:\n",
    "        queries = file.readlines()\n",
    "    return queries"
   ]
  },
  {
   "cell_type": "code",
   "execution_count": 18,
   "metadata": {},
   "outputs": [],
   "source": [
    "def write_file(outputs, path_to_output):\n",
    "    '''outputs should be a list of lists.\n",
    "        len(outputs) = number of queries\n",
    "        Each element in outputs should be a list of titles corresponding to a particular query.'''\n",
    "    with open(path_to_output, 'w') as file:\n",
    "        for output in outputs:\n",
    "            for line in output:\n",
    "                file.write(line.strip() + '\\n')\n",
    "            file.write('\\n')"
   ]
  },
  {
   "cell_type": "code",
   "execution_count": 19,
   "metadata": {},
   "outputs": [],
   "source": [
    "def mapping_shortform(field) :\n",
    "    \n",
    "    field = field.lower()\n",
    "    \n",
    "    if field == \"title\" :\n",
    "        return \"t\"\n",
    "    elif field == \"infobox\" :\n",
    "        return \"i\"\n",
    "    elif field == \"category\" :\n",
    "        return \"c\"\n",
    "    elif field == \"body\" :\n",
    "        return \"b\"\n",
    "    elif field == \"ref\" :\n",
    "        return \"b\"\n",
    "    else :\n",
    "        return field"
   ]
  },
  {
   "cell_type": "code",
   "execution_count": 20,
   "metadata": {},
   "outputs": [],
   "source": [
    "def search(path_to_index, queries):\n",
    "    \n",
    "    title_tags = open(path_to_index+\"/title_tags.txt\", \"r\")\n",
    "    title_position = pickle.load(open(path_to_index+\"/title_positions.pickle\", \"rb\"))\n",
    "    word_position = pickle.load(open(path_to_index+\"/word_positions.pickle\", \"rb\"))\n",
    "\n",
    "    field_map = {\"t\" : 0, \"b\" : 1, \"i\" : 2, \"c\" : 3}\n",
    "    field_chars = [\"t\", \"b\", \"i\", \"c\"] \n",
    "    files = []\n",
    "\n",
    "    for f in field_chars :\n",
    "        file = path_to_index+\"/\" + f + \"_1.txt\"\n",
    "        fp = open(file, \"r\")\n",
    "        files.append(fp)\n",
    "        \n",
    "    final_result = []\n",
    "    for query in queries :\n",
    "        \n",
    "        result = list()\n",
    "        documents = dict()\n",
    "        query_words = list()\n",
    "\n",
    "        query = query.lower().strip()\n",
    "#         start = time.time()\n",
    "#         if (query == \"exit\") :\n",
    "#             break\n",
    "\n",
    "        if \":\" in query :\n",
    "            query_bag = query.split(\",\")\n",
    "            t_result=list()\n",
    "            for q in query_bag :\n",
    "                intersection=0\n",
    "                field, query = q.split(\":\")\n",
    "                field = field.strip()\n",
    "                field = mapping_shortform(field)\n",
    "    #             print(field)\n",
    "    #             print(query)\n",
    "                query_words = query.split()\n",
    "                for word in query_words :\n",
    "                    docs=list()\n",
    "                    word = stemmer.stem(word)\n",
    "                    if word in word_position and field in word_position[word] :\n",
    "                        position = word_position[word][field]\n",
    "                        files[field_map[field]].seek(position)\n",
    "                        s = files[field_map[field]].readline()[:-1]\n",
    "                        temp_docs = s.split(\",\")\n",
    "                        for doc in temp_docs : \n",
    "                            docs.append(doc.split(\":\")[0])\n",
    "                        if intersection==0:\n",
    "                            intersection = 1\n",
    "                            t_result=copy.deepcopy(list(set(docs)))\n",
    "                        else:\n",
    "                            t_result=copy.deepcopy(list(set(result) & set(docs)));\n",
    "\n",
    "                for item in t_result : \n",
    "                    result.append(item)\n",
    "            result = set(result)\n",
    "        else :\n",
    "            intersection=0    \n",
    "            query_bag = query.split()      \n",
    "            length = len(query_bag)\n",
    "            for i in range(length) :\n",
    "                query_bag[i] = stemmer.stem(query_bag[i])\n",
    "            for word in query_bag :\n",
    "                if word not in stop_words and word in word_position:\n",
    "                    query_words.append(word)\n",
    "\n",
    "            for word in query_words :\n",
    "                docs = list()\n",
    "                positions = word_position[word]\n",
    "                for field in positions.keys() :\n",
    "                    position = positions[field]\n",
    "                    files[field_map[field]].seek(position)\n",
    "                    s = files[field_map[field]].readline()[: -1]\n",
    "                    temp_docs = s.split(\",\")\n",
    "                    for doc in temp_docs : \n",
    "                        docs.append(doc.split(\":\")[0])\n",
    "                if intersection==0:\n",
    "                    intersection = 1\n",
    "                    result=copy.deepcopy(list(set(docs)))\n",
    "                else:\n",
    "                    result=copy.deepcopy(list(set(result) & set(docs)))\n",
    "\n",
    "        end = time.time()\n",
    "        if len(result) == 0 :\n",
    "            result = []\n",
    "#             print(\"No reults found\")\n",
    "#             print(\"Time taken - \" + str(end - start) + \"s\")\n",
    "        else :\n",
    "#             print(\"Results retrieved in - \" + str(end - start) + \"s\")\n",
    "            result= set(result)\n",
    "            tilte_result = []\n",
    "#             print(\"No-\",len(result))\n",
    "            for d_id in result:\n",
    "                pointer=title_position[int(d_id)-1]\n",
    "                title_tags.seek(pointer)\n",
    "                title=title_tags.readline()[:-1]\n",
    "                tilte_result.append(title)\n",
    "         \n",
    "        final_result.append(tilte_result)\n",
    "    return final_result"
   ]
  },
  {
   "cell_type": "code",
   "execution_count": 21,
   "metadata": {},
   "outputs": [],
   "source": [
    "def main():\n",
    "    path_to_index = sys.argv[1]\n",
    "    testfile = sys.argv[2]\n",
    "    path_to_output = sys.argv[3]\n",
    "\n",
    "    queries = read_file(testfile)\n",
    "    outputs = search(path_to_index, queries)\n",
    "    write_file(outputs, path_to_output)"
   ]
  },
  {
   "cell_type": "code",
   "execution_count": 22,
   "metadata": {},
   "outputs": [
    {
     "ename": "IndexError",
     "evalue": "list index out of range",
     "output_type": "error",
     "traceback": [
      "\u001b[0;31m---------------------------------------------------------------------------\u001b[0m",
      "\u001b[0;31mIndexError\u001b[0m                                Traceback (most recent call last)",
      "\u001b[0;32m<ipython-input-22-c7bc734e5e35>\u001b[0m in \u001b[0;36m<module>\u001b[0;34m\u001b[0m\n\u001b[1;32m      1\u001b[0m \u001b[0;32mif\u001b[0m \u001b[0m__name__\u001b[0m \u001b[0;34m==\u001b[0m \u001b[0;34m'__main__'\u001b[0m\u001b[0;34m:\u001b[0m\u001b[0;34m\u001b[0m\u001b[0;34m\u001b[0m\u001b[0m\n\u001b[0;32m----> 2\u001b[0;31m     \u001b[0mmain\u001b[0m\u001b[0;34m(\u001b[0m\u001b[0;34m)\u001b[0m\u001b[0;34m\u001b[0m\u001b[0;34m\u001b[0m\u001b[0m\n\u001b[0m",
      "\u001b[0;32m<ipython-input-21-c790bdd22d26>\u001b[0m in \u001b[0;36mmain\u001b[0;34m()\u001b[0m\n\u001b[1;32m      2\u001b[0m     \u001b[0mpath_to_index\u001b[0m \u001b[0;34m=\u001b[0m \u001b[0msys\u001b[0m\u001b[0;34m.\u001b[0m\u001b[0margv\u001b[0m\u001b[0;34m[\u001b[0m\u001b[0;36m1\u001b[0m\u001b[0;34m]\u001b[0m\u001b[0;34m\u001b[0m\u001b[0;34m\u001b[0m\u001b[0m\n\u001b[1;32m      3\u001b[0m     \u001b[0mtestfile\u001b[0m \u001b[0;34m=\u001b[0m \u001b[0msys\u001b[0m\u001b[0;34m.\u001b[0m\u001b[0margv\u001b[0m\u001b[0;34m[\u001b[0m\u001b[0;36m2\u001b[0m\u001b[0;34m]\u001b[0m\u001b[0;34m\u001b[0m\u001b[0;34m\u001b[0m\u001b[0m\n\u001b[0;32m----> 4\u001b[0;31m     \u001b[0mpath_to_output\u001b[0m \u001b[0;34m=\u001b[0m \u001b[0msys\u001b[0m\u001b[0;34m.\u001b[0m\u001b[0margv\u001b[0m\u001b[0;34m[\u001b[0m\u001b[0;36m3\u001b[0m\u001b[0;34m]\u001b[0m\u001b[0;34m\u001b[0m\u001b[0;34m\u001b[0m\u001b[0m\n\u001b[0m\u001b[1;32m      5\u001b[0m \u001b[0;34m\u001b[0m\u001b[0m\n\u001b[1;32m      6\u001b[0m     \u001b[0mqueries\u001b[0m \u001b[0;34m=\u001b[0m \u001b[0mread_file\u001b[0m\u001b[0;34m(\u001b[0m\u001b[0mtestfile\u001b[0m\u001b[0;34m)\u001b[0m\u001b[0;34m\u001b[0m\u001b[0;34m\u001b[0m\u001b[0m\n",
      "\u001b[0;31mIndexError\u001b[0m: list index out of range"
     ]
    }
   ],
   "source": [
    "if __name__ == '__main__':\n",
    "    main()"
   ]
  }
 ],
 "metadata": {
  "kernelspec": {
   "display_name": "Python 3",
   "language": "python",
   "name": "python3"
  },
  "language_info": {
   "codemirror_mode": {
    "name": "ipython",
    "version": 3
   },
   "file_extension": ".py",
   "mimetype": "text/x-python",
   "name": "python",
   "nbconvert_exporter": "python",
   "pygments_lexer": "ipython3",
   "version": "3.6.8"
  }
 },
 "nbformat": 4,
 "nbformat_minor": 2
}
